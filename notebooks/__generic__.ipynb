{
  "nbformat": 4,
  "nbformat_minor": 0,
  "metadata": {
    "colab": {
      "name": "project_ee_nlu.ipynb",
      "provenance": [],
      "collapsed_sections": [],
      "authorship_tag": "ABX9TyMcKp6yNHlZ3yIgo5zcwEZq",
      "include_colab_link": true
    },
    "kernelspec": {
      "name": "python3",
      "display_name": "Python 3"
    },
    "language_info": {
      "name": "python"
    },
    "accelerator": "GPU"
  },
  "cells": [
    {
      "cell_type": "markdown",
      "metadata": {
        "id": "view-in-github",
        "colab_type": "text"
      },
      "source": [
        "<a href=\"https://colab.research.google.com/github/altsoph/EENLP/blob/main/project_ee_nlu.ipynb\" target=\"_parent\"><img src=\"https://colab.research.google.com/assets/colab-badge.svg\" alt=\"Open In Colab\"/></a>"
      ]
    },
    {
      "cell_type": "markdown",
      "metadata": {
        "id": "mrmNWJAgMQ_b"
      },
      "source": [
        "# Settings"
      ]
    },
    {
      "cell_type": "code",
      "metadata": {
        "id": "TfQC771bMSti"
      },
      "source": [
        "TRAIN_DATA_URL = \"https://raw.githubusercontent.com/Usprogis/Latvian-Twitter-Eater-Corpus/master/sub-corpora/sentiment-analysis/ltec-sentiment-annotated-train.json\"\n",
        "TEST_DATA_URL = \"https://raw.githubusercontent.com/Usprogis/Latvian-Twitter-Eater-Corpus/master/sub-corpora/sentiment-analysis/ltec-sentiment-annotated-test.json\"\n",
        "\n",
        "TOKENIZER = 'FFZG-cleopatra/bert-emoji-latvian-twitter'\n",
        "MODEL_TYPE = 'FFZG-cleopatra/bert-emoji-latvian-twitter'\n",
        "NUM_LABELS = 3"
      ],
      "execution_count": 35,
      "outputs": []
    },
    {
      "cell_type": "code",
      "metadata": {
        "colab": {
          "base_uri": "https://localhost:8080/"
        },
        "id": "KHAIcMhtHCz2",
        "outputId": "41c184e6-845f-4909-c2e7-8d0ab8a1063d"
      },
      "source": [
        "!pip install transformers\n",
        "!pip install wget\n",
        "!pip install urllib2"
      ],
      "execution_count": 2,
      "outputs": [
        {
          "output_type": "stream",
          "text": [
            "Requirement already satisfied: transformers in /usr/local/lib/python3.7/dist-packages (4.8.2)\n",
            "Requirement already satisfied: regex!=2019.12.17 in /usr/local/lib/python3.7/dist-packages (from transformers) (2019.12.20)\n",
            "Requirement already satisfied: filelock in /usr/local/lib/python3.7/dist-packages (from transformers) (3.0.12)\n",
            "Requirement already satisfied: importlib-metadata; python_version < \"3.8\" in /usr/local/lib/python3.7/dist-packages (from transformers) (4.6.0)\n",
            "Requirement already satisfied: requests in /usr/local/lib/python3.7/dist-packages (from transformers) (2.23.0)\n",
            "Requirement already satisfied: pyyaml in /usr/local/lib/python3.7/dist-packages (from transformers) (3.13)\n",
            "Requirement already satisfied: tokenizers<0.11,>=0.10.1 in /usr/local/lib/python3.7/dist-packages (from transformers) (0.10.3)\n",
            "Requirement already satisfied: packaging in /usr/local/lib/python3.7/dist-packages (from transformers) (20.9)\n",
            "Requirement already satisfied: sacremoses in /usr/local/lib/python3.7/dist-packages (from transformers) (0.0.45)\n",
            "Requirement already satisfied: numpy>=1.17 in /usr/local/lib/python3.7/dist-packages (from transformers) (1.19.5)\n",
            "Requirement already satisfied: huggingface-hub==0.0.12 in /usr/local/lib/python3.7/dist-packages (from transformers) (0.0.12)\n",
            "Requirement already satisfied: tqdm>=4.27 in /usr/local/lib/python3.7/dist-packages (from transformers) (4.41.1)\n",
            "Requirement already satisfied: typing-extensions>=3.6.4; python_version < \"3.8\" in /usr/local/lib/python3.7/dist-packages (from importlib-metadata; python_version < \"3.8\"->transformers) (3.7.4.3)\n",
            "Requirement already satisfied: zipp>=0.5 in /usr/local/lib/python3.7/dist-packages (from importlib-metadata; python_version < \"3.8\"->transformers) (3.4.1)\n",
            "Requirement already satisfied: urllib3!=1.25.0,!=1.25.1,<1.26,>=1.21.1 in /usr/local/lib/python3.7/dist-packages (from requests->transformers) (1.24.3)\n",
            "Requirement already satisfied: chardet<4,>=3.0.2 in /usr/local/lib/python3.7/dist-packages (from requests->transformers) (3.0.4)\n",
            "Requirement already satisfied: certifi>=2017.4.17 in /usr/local/lib/python3.7/dist-packages (from requests->transformers) (2021.5.30)\n",
            "Requirement already satisfied: idna<3,>=2.5 in /usr/local/lib/python3.7/dist-packages (from requests->transformers) (2.10)\n",
            "Requirement already satisfied: pyparsing>=2.0.2 in /usr/local/lib/python3.7/dist-packages (from packaging->transformers) (2.4.7)\n",
            "Requirement already satisfied: joblib in /usr/local/lib/python3.7/dist-packages (from sacremoses->transformers) (1.0.1)\n",
            "Requirement already satisfied: click in /usr/local/lib/python3.7/dist-packages (from sacremoses->transformers) (7.1.2)\n",
            "Requirement already satisfied: six in /usr/local/lib/python3.7/dist-packages (from sacremoses->transformers) (1.15.0)\n",
            "Requirement already satisfied: wget in /usr/local/lib/python3.7/dist-packages (3.2)\n",
            "\u001b[31mERROR: Could not find a version that satisfies the requirement urllib2 (from versions: none)\u001b[0m\n",
            "\u001b[31mERROR: No matching distribution found for urllib2\u001b[0m\n"
          ],
          "name": "stdout"
        }
      ]
    },
    {
      "cell_type": "code",
      "metadata": {
        "id": "mypwy8UOokGw"
      },
      "source": [
        "import numpy as np\n",
        "import pandas as pd\n",
        "import matplotlib.pyplot as plt\n",
        "import seaborn as sns\n",
        "\n",
        "import torch\n",
        "import json"
      ],
      "execution_count": 3,
      "outputs": []
    },
    {
      "cell_type": "code",
      "metadata": {
        "colab": {
          "base_uri": "https://localhost:8080/"
        },
        "id": "ZZlrdmoXol1I",
        "outputId": "929b824c-a19b-4572-cb44-80fa19a6c75b"
      },
      "source": [
        "device = torch.device('cuda' if torch.cuda.is_available() else 'cpu')\n",
        "device"
      ],
      "execution_count": 4,
      "outputs": [
        {
          "output_type": "execute_result",
          "data": {
            "text/plain": [
              "device(type='cuda')"
            ]
          },
          "metadata": {
            "tags": []
          },
          "execution_count": 4
        }
      ]
    },
    {
      "cell_type": "markdown",
      "metadata": {
        "id": "1JAxmonFKLDg"
      },
      "source": [
        "# Loading data"
      ]
    },
    {
      "cell_type": "code",
      "metadata": {
        "colab": {
          "base_uri": "https://localhost:8080/",
          "height": 205
        },
        "id": "L-MnsaRcc81T",
        "outputId": "4e0e2915-de6d-4363-c004-8a7edab1463f"
      },
      "source": [
        "df_train = pd.read_json(TRAIN_DATA_URL)\n",
        "df_test = pd.read_json(TEST_DATA_URL)\n",
        "df_train.sample(5)"
      ],
      "execution_count": 5,
      "outputs": [
        {
          "output_type": "execute_result",
          "data": {
            "text/html": [
              "<div>\n",
              "<style scoped>\n",
              "    .dataframe tbody tr th:only-of-type {\n",
              "        vertical-align: middle;\n",
              "    }\n",
              "\n",
              "    .dataframe tbody tr th {\n",
              "        vertical-align: top;\n",
              "    }\n",
              "\n",
              "    .dataframe thead th {\n",
              "        text-align: right;\n",
              "    }\n",
              "</style>\n",
              "<table border=\"1\" class=\"dataframe\">\n",
              "  <thead>\n",
              "    <tr style=\"text-align: right;\">\n",
              "      <th></th>\n",
              "      <th>sentiment</th>\n",
              "      <th>screen_name</th>\n",
              "      <th>tweet_id</th>\n",
              "      <th>tweet_text</th>\n",
              "    </tr>\n",
              "  </thead>\n",
              "  <tbody>\n",
              "    <tr>\n",
              "      <th>3844</th>\n",
              "      <td>neg</td>\n",
              "      <td>amisterErnestO</td>\n",
              "      <td>1268982284792848384</td>\n",
              "      <td>Pie lāsta, kaut tev visi mandarīni ar sēkliņām...</td>\n",
              "    </tr>\n",
              "    <tr>\n",
              "      <th>920</th>\n",
              "      <td>neg</td>\n",
              "      <td>santuksss</td>\n",
              "      <td>1258436464226033664</td>\n",
              "      <td>gribu paraudāt un paēst saldejumu</td>\n",
              "    </tr>\n",
              "    <tr>\n",
              "      <th>4</th>\n",
              "      <td>neu</td>\n",
              "      <td>sannijase</td>\n",
              "      <td>1255936308565983232</td>\n",
              "      <td>kāpēc mans kvass garšo pēc alkohola?</td>\n",
              "    </tr>\n",
              "    <tr>\n",
              "      <th>266</th>\n",
              "      <td>pos</td>\n",
              "      <td>sanitaribena</td>\n",
              "      <td>1256879644365787136</td>\n",
              "      <td>@jtaurens Jā, un ir ļoti garšīgi. Es cepu cepe...</td>\n",
              "    </tr>\n",
              "    <tr>\n",
              "      <th>1207</th>\n",
              "      <td>pos</td>\n",
              "      <td>RaitisMr</td>\n",
              "      <td>1259213700029964288</td>\n",
              "      <td>Eu... Ķirson.. Mana sieviete grib.. Lai tavas ...</td>\n",
              "    </tr>\n",
              "  </tbody>\n",
              "</table>\n",
              "</div>"
            ],
            "text/plain": [
              "     sentiment  ...                                         tweet_text\n",
              "3844       neg  ...  Pie lāsta, kaut tev visi mandarīni ar sēkliņām...\n",
              "920        neg  ...                  gribu paraudāt un paēst saldejumu\n",
              "4          neu  ...               kāpēc mans kvass garšo pēc alkohola?\n",
              "266        pos  ...  @jtaurens Jā, un ir ļoti garšīgi. Es cepu cepe...\n",
              "1207       pos  ...  Eu... Ķirson.. Mana sieviete grib.. Lai tavas ...\n",
              "\n",
              "[5 rows x 4 columns]"
            ]
          },
          "metadata": {
            "tags": []
          },
          "execution_count": 5
        }
      ]
    },
    {
      "cell_type": "code",
      "metadata": {
        "id": "88LmlvzCkfgC"
      },
      "source": [
        "## write down target and text features\n",
        "\n",
        "target = 'sentiment'\n",
        "text = 'tweet_text'"
      ],
      "execution_count": 6,
      "outputs": []
    },
    {
      "cell_type": "code",
      "metadata": {
        "colab": {
          "base_uri": "https://localhost:8080/",
          "height": 257
        },
        "id": "PYE5T8UYMhFJ",
        "outputId": "93a75079-b631-4da9-ff3d-bb3ecc42681d"
      },
      "source": [
        "from sklearn.preprocessing import LabelEncoder\n",
        "\n",
        "target_encoder = LabelEncoder()\n",
        "train_target_values = target_encoder.fit_transform(df_train[target])\n",
        "test_target_values = target_encoder.transform(df_test[target])\n",
        "\n",
        "target = f'{target}_labeled'\n",
        "\n",
        "df_train[target] = train_target_values\n",
        "df_test[target] = test_target_values\n",
        "df_train.sample(5)"
      ],
      "execution_count": 7,
      "outputs": [
        {
          "output_type": "execute_result",
          "data": {
            "text/html": [
              "<div>\n",
              "<style scoped>\n",
              "    .dataframe tbody tr th:only-of-type {\n",
              "        vertical-align: middle;\n",
              "    }\n",
              "\n",
              "    .dataframe tbody tr th {\n",
              "        vertical-align: top;\n",
              "    }\n",
              "\n",
              "    .dataframe thead th {\n",
              "        text-align: right;\n",
              "    }\n",
              "</style>\n",
              "<table border=\"1\" class=\"dataframe\">\n",
              "  <thead>\n",
              "    <tr style=\"text-align: right;\">\n",
              "      <th></th>\n",
              "      <th>sentiment</th>\n",
              "      <th>screen_name</th>\n",
              "      <th>tweet_id</th>\n",
              "      <th>tweet_text</th>\n",
              "      <th>sentiment_labeled</th>\n",
              "    </tr>\n",
              "  </thead>\n",
              "  <tbody>\n",
              "    <tr>\n",
              "      <th>3344</th>\n",
              "      <td>neu</td>\n",
              "      <td>ainissprogis</td>\n",
              "      <td>1266047281826070528</td>\n",
              "      <td>@norru26 @ltvzinas Tu pats esi pederasts, vai ...</td>\n",
              "      <td>1</td>\n",
              "    </tr>\n",
              "    <tr>\n",
              "      <th>1617</th>\n",
              "      <td>neu</td>\n",
              "      <td>andapuce</td>\n",
              "      <td>1260143796072972288</td>\n",
              "      <td>@WilmaLinda Siļķe pē! Dārzeņu piena zupa garda...</td>\n",
              "      <td>1</td>\n",
              "    </tr>\n",
              "    <tr>\n",
              "      <th>3724</th>\n",
              "      <td>neu</td>\n",
              "      <td>mafija420</td>\n",
              "      <td>1268258782305554432</td>\n",
              "      <td>Apēdu pieclapu ceriņziedu, y’all bitches ain’t...</td>\n",
              "      <td>1</td>\n",
              "    </tr>\n",
              "    <tr>\n",
              "      <th>2771</th>\n",
              "      <td>neg</td>\n",
              "      <td>ainissprogis</td>\n",
              "      <td>1263182007414198272</td>\n",
              "      <td>@Alex_Ivanayev @Dan_Avangard @IXIXNOISE @AKras...</td>\n",
              "      <td>0</td>\n",
              "    </tr>\n",
              "    <tr>\n",
              "      <th>740</th>\n",
              "      <td>neg</td>\n",
              "      <td>MartasTante</td>\n",
              "      <td>1258006947430793216</td>\n",
              "      <td>@PandaElijah @Sandastante Nu fui... Tad vēl uz...</td>\n",
              "      <td>0</td>\n",
              "    </tr>\n",
              "  </tbody>\n",
              "</table>\n",
              "</div>"
            ],
            "text/plain": [
              "     sentiment  ... sentiment_labeled\n",
              "3344       neu  ...                 1\n",
              "1617       neu  ...                 1\n",
              "3724       neu  ...                 1\n",
              "2771       neg  ...                 0\n",
              "740        neg  ...                 0\n",
              "\n",
              "[5 rows x 5 columns]"
            ]
          },
          "metadata": {
            "tags": []
          },
          "execution_count": 7
        }
      ]
    },
    {
      "cell_type": "code",
      "metadata": {
        "colab": {
          "base_uri": "https://localhost:8080/",
          "height": 293
        },
        "id": "cRpXn4CDk4bL",
        "outputId": "5ab343d0-c2b4-4a52-e178-f8b3f068c9bc"
      },
      "source": [
        "import re\n",
        "import nltk\n",
        "from nltk.corpus import stopwords\n",
        "from nltk.tokenize import word_tokenize\n",
        "from string import punctuation, digits\n",
        "\n",
        "nltk.download('stopwords')\n",
        "nltk.download('punkt')\n",
        "\n",
        "def remove_punctuation(s):\n",
        "    list_punctuation = list(punctuation)\n",
        "    for i in list_punctuation:\n",
        "        s = s.replace(i,'')\n",
        "    return s.lower()\n",
        "\n",
        "def clean_sentence(sentence):\n",
        "    sentence = sentence.lower()\n",
        "    sentence = re.sub(r'(\\W)\\1{2,}', r'\\1', sentence) \n",
        "    sentence = re.sub(r'(\\w)\\1{2,}', r'\\1\\1', sentence)\n",
        "    sentence = re.sub(r'(?P<url>https?://[^\\s]+)', '', sentence) # remove URL adresses\n",
        "    sentence = re.sub(r\"\\@(\\w+)\", '', sentence) # remove usernames\n",
        "    sentence = re.sub(r\"\\#(\\w+)\", '', sentence) # remove hashtags\n",
        "    sentence = re.sub(r\"\\$(\\w+)\", '', sentence) # remove cashtags\n",
        "    sentence = sentence.replace(\"-\",' ')\n",
        "    tokens = sentence.split()\n",
        "    tokens = [remove_punctuation(w) for w in tokens] # remove punctuations\n",
        "    stop_words = set(stopwords.words('english')) # remove stopwords\n",
        "    tokens = [w for w in tokens if not w in stop_words]\n",
        "    remove_digits = str.maketrans('', '', digits)\n",
        "    tokens = [w.translate(remove_digits) for w in tokens]\n",
        "    tokens = [w.strip() for w in tokens]\n",
        "    tokens = [w for w in tokens if w!=\"\"]\n",
        "    tokens = ' '.join(tokens)\n",
        "    tokens = tokens.replace(\"â\", \"\")\n",
        "    return tokens\n",
        "\n",
        "df_train[text] = df_train[text].apply(clean_sentence)\n",
        "df_test[text] = df_test[text].apply(clean_sentence)\n",
        "df_train.sample(5)"
      ],
      "execution_count": 8,
      "outputs": [
        {
          "output_type": "stream",
          "text": [
            "[nltk_data] Downloading package stopwords to /root/nltk_data...\n",
            "[nltk_data]   Package stopwords is already up-to-date!\n",
            "[nltk_data] Downloading package punkt to /root/nltk_data...\n",
            "[nltk_data]   Package punkt is already up-to-date!\n"
          ],
          "name": "stdout"
        },
        {
          "output_type": "execute_result",
          "data": {
            "text/html": [
              "<div>\n",
              "<style scoped>\n",
              "    .dataframe tbody tr th:only-of-type {\n",
              "        vertical-align: middle;\n",
              "    }\n",
              "\n",
              "    .dataframe tbody tr th {\n",
              "        vertical-align: top;\n",
              "    }\n",
              "\n",
              "    .dataframe thead th {\n",
              "        text-align: right;\n",
              "    }\n",
              "</style>\n",
              "<table border=\"1\" class=\"dataframe\">\n",
              "  <thead>\n",
              "    <tr style=\"text-align: right;\">\n",
              "      <th></th>\n",
              "      <th>sentiment</th>\n",
              "      <th>screen_name</th>\n",
              "      <th>tweet_id</th>\n",
              "      <th>tweet_text</th>\n",
              "      <th>sentiment_labeled</th>\n",
              "    </tr>\n",
              "  </thead>\n",
              "  <tbody>\n",
              "    <tr>\n",
              "      <th>4056</th>\n",
              "      <td>neu</td>\n",
              "      <td>lukasoids</td>\n",
              "      <td>1271168198302457856</td>\n",
              "      <td>salauz mazākos gabaliņos ēd pa mazākām daliņām...</td>\n",
              "      <td>1</td>\n",
              "    </tr>\n",
              "    <tr>\n",
              "      <th>2481</th>\n",
              "      <td>neu</td>\n",
              "      <td>drinkits</td>\n",
              "      <td>1262690376093175808</td>\n",
              "      <td>pēc datiem izskatās ka vidrižos skumji ar tele...</td>\n",
              "      <td>1</td>\n",
              "    </tr>\n",
              "    <tr>\n",
              "      <th>322</th>\n",
              "      <td>neu</td>\n",
              "      <td>chokolaade</td>\n",
              "      <td>1257001302497910784</td>\n",
              "      <td>man bērnu nav bet tā ir ar kaķi kad viņa sajūt...</td>\n",
              "      <td>1</td>\n",
              "    </tr>\n",
              "    <tr>\n",
              "      <th>2268</th>\n",
              "      <td>neu</td>\n",
              "      <td>DitaGabalina</td>\n",
              "      <td>1262111834385133568</td>\n",
              "      <td>salātlapas vīnogas vista valrieksti karija mērce</td>\n",
              "      <td>1</td>\n",
              "    </tr>\n",
              "    <tr>\n",
              "      <th>1166</th>\n",
              "      <td>neu</td>\n",
              "      <td>juriszalmanis</td>\n",
              "      <td>1259164972816502784</td>\n",
              "      <td>zinājāt ka burkāni palīdz nodibināt saiti star...</td>\n",
              "      <td>1</td>\n",
              "    </tr>\n",
              "  </tbody>\n",
              "</table>\n",
              "</div>"
            ],
            "text/plain": [
              "     sentiment  ... sentiment_labeled\n",
              "4056       neu  ...                 1\n",
              "2481       neu  ...                 1\n",
              "322        neu  ...                 1\n",
              "2268       neu  ...                 1\n",
              "1166       neu  ...                 1\n",
              "\n",
              "[5 rows x 5 columns]"
            ]
          },
          "metadata": {
            "tags": []
          },
          "execution_count": 8
        }
      ]
    },
    {
      "cell_type": "code",
      "metadata": {
        "colab": {
          "base_uri": "https://localhost:8080/",
          "height": 269
        },
        "id": "P2v1Sr2WmUlq",
        "outputId": "f1750aa8-cf26-46d3-c2e5-e87d356f9ea3"
      },
      "source": [
        "df_train[target].hist();"
      ],
      "execution_count": 9,
      "outputs": [
        {
          "output_type": "display_data",
          "data": {
            "image/png": "[encoded data removed]",
            "text/plain": [
              "<Figure size 432x288 with 1 Axes>"
            ]
          },
          "metadata": {
            "tags": [],
            "needs_background": "light"
          }
        }
      ]
    },
    {
      "cell_type": "code",
      "metadata": {
        "colab": {
          "base_uri": "https://localhost:8080/",
          "height": 283
        },
        "id": "K_nBP03Ho4Ka",
        "outputId": "afd012d9-cfe6-4579-d12b-d378f7f56b0e"
      },
      "source": [
        "df_test[target].hist()"
      ],
      "execution_count": 10,
      "outputs": [
        {
          "output_type": "execute_result",
          "data": {
            "text/plain": [
              "<matplotlib.axes._subplots.AxesSubplot at 0x7fc294f25c50>"
            ]
          },
          "metadata": {
            "tags": []
          },
          "execution_count": 10
        },
        {
          "output_type": "display_data",
          "data": {
            "image/png": "[encoded data removed]",
            "text/plain": [
              "<Figure size 432x288 with 1 Axes>"
            ]
          },
          "metadata": {
            "tags": [],
            "needs_background": "light"
          }
        }
      ]
    },
    {
      "cell_type": "markdown",
      "metadata": {
        "id": "vJsGyUiSmRjb"
      },
      "source": [
        "# Creating Dataset and DataLoader"
      ]
    },
    {
      "cell_type": "code",
      "metadata": {
        "id": "7LjRtOgnmRTw"
      },
      "source": [
        "from transformers import BertTokenizer\n",
        "tokenizer = BertTokenizer.from_pretrained(TOKENIZER, do_lower_case = True)"
      ],
      "execution_count": 11,
      "outputs": []
    },
    {
      "cell_type": "code",
      "metadata": {
        "colab": {
          "base_uri": "https://localhost:8080/"
        },
        "id": "WBFZSrQ_mLGc",
        "outputId": "6365b50a-c92f-4d83-f461-1ba7b3210494"
      },
      "source": [
        "sentence = df_train.loc[0, text]\n",
        "\n",
        "print(sentence)\n",
        "print(tokenizer.tokenize(sentence))\n",
        "print(tokenizer.convert_tokens_to_ids(tokenizer.tokenize(sentence)))"
      ],
      "execution_count": 12,
      "outputs": [
        {
          "output_type": "stream",
          "text": [
            "tirgoju saldējumu gadi tad biešu kaplēšana gadiem\n",
            "['tir', '##go', '##ju', 'sal', '##dej', '##umu', 'ga', '##di', 'tad', 'bi', '##esu', 'kaple', '##sana', 'ga', '##diem']\n",
            "[46756, 10797, 10761, 31119, 90062, 26117, 11887, 10703, 50586, 11342, 78448, 84178, 51308, 11887, 78711]\n"
          ],
          "name": "stdout"
        }
      ]
    },
    {
      "cell_type": "code",
      "metadata": {
        "id": "qBeXXXL6nWU7"
      },
      "source": [
        "class Config:\n",
        "    batch_size = 32\n",
        "    max_len = 0"
      ],
      "execution_count": 13,
      "outputs": []
    },
    {
      "cell_type": "code",
      "metadata": {
        "colab": {
          "base_uri": "https://localhost:8080/"
        },
        "id": "oQlwFQa4nWfU",
        "outputId": "c6cd94a4-7a8a-41ec-fe6b-a2180986bd40"
      },
      "source": [
        "Config.max_len = 0\n",
        "\n",
        "for sent in df_train.loc[:, text]:\n",
        "    sent = tokenizer.encode(sent, add_special_tokens = True)\n",
        "    Config.max_len = max(Config.max_len, len(sent))\n",
        "\n",
        "Config.max_len"
      ],
      "execution_count": 14,
      "outputs": [
        {
          "output_type": "execute_result",
          "data": {
            "text/plain": [
              "99"
            ]
          },
          "metadata": {
            "tags": []
          },
          "execution_count": 14
        }
      ]
    },
    {
      "cell_type": "code",
      "metadata": {
        "id": "BHeYSBEYnWiC"
      },
      "source": [
        "## TRAIN DATA\n",
        "\n",
        "train_input_ids = torch.tensor([])\n",
        "train_attention_masks = torch.tensor([])\n",
        "\n",
        "for sent in df_train.loc[:, text]:\n",
        "    encoded_sent = tokenizer.encode_plus(sent, add_special_tokens = True,\n",
        "                                         max_length = Config.max_len, padding = 'max_length',\n",
        "                                         return_tensors = 'pt')\n",
        "    train_input_ids = torch.cat([train_input_ids, encoded_sent['input_ids']])\n",
        "    train_attention_masks = torch.cat([train_attention_masks, encoded_sent['attention_mask']])"
      ],
      "execution_count": 26,
      "outputs": []
    },
    {
      "cell_type": "code",
      "metadata": {
        "id": "lShTNnO-ppOW"
      },
      "source": [
        "## TEST DATA\n",
        "\n",
        "test_input_ids = torch.tensor([])\n",
        "test_attention_masks = torch.tensor([])\n",
        "\n",
        "for sent in df_test.loc[:, text]:\n",
        "    encoded_sent = tokenizer.encode_plus(sent, add_special_tokens = True,\n",
        "                                         max_length = Config.max_len, padding = 'max_length',\n",
        "                                         return_tensors = 'pt')\n",
        "    test_input_ids = torch.cat([test_input_ids, encoded_sent['input_ids']])\n",
        "    test_attention_masks = torch.cat([test_attention_masks, encoded_sent['attention_mask']]) "
      ],
      "execution_count": 27,
      "outputs": []
    },
    {
      "cell_type": "code",
      "metadata": {
        "colab": {
          "base_uri": "https://localhost:8080/"
        },
        "id": "1fX5HFY1nWpc",
        "outputId": "07530a9e-95d2-412f-f99d-16f879bdc378"
      },
      "source": [
        "train_labels = torch.tensor(df_train[target])\n",
        "test_labels = torch.tensor(df_test[target])\n",
        "train_labels"
      ],
      "execution_count": 28,
      "outputs": [
        {
          "output_type": "execute_result",
          "data": {
            "text/plain": [
              "tensor([1, 2, 2,  ..., 0, 2, 2])"
            ]
          },
          "metadata": {
            "tags": []
          },
          "execution_count": 28
        }
      ]
    },
    {
      "cell_type": "code",
      "metadata": {
        "id": "icTFNt2znWsC"
      },
      "source": [
        "from torch.utils.data import TensorDataset, random_split\n",
        "\n",
        "train_dataset = TensorDataset(train_input_ids, train_attention_masks, train_labels)\n",
        "test_dataset = TensorDataset(test_input_ids, test_attention_masks, test_labels)\n",
        "val_size = int(0.3 * len(train_dataset))\n",
        "train_size = len(train_dataset) - val_size\n",
        "\n",
        "train_dataset, val_dataset = random_split(train_dataset, [train_size, val_size])"
      ],
      "execution_count": 29,
      "outputs": []
    },
    {
      "cell_type": "code",
      "metadata": {
        "colab": {
          "base_uri": "https://localhost:8080/"
        },
        "id": "9ajLCIs1nWuY",
        "outputId": "fa27e71d-30e9-4d2a-f66e-d703f32237e4"
      },
      "source": [
        "len(train_dataset), len(val_dataset), len(test_dataset)"
      ],
      "execution_count": 30,
      "outputs": [
        {
          "output_type": "execute_result",
          "data": {
            "text/plain": [
              "(3542, 1517, 744)"
            ]
          },
          "metadata": {
            "tags": []
          },
          "execution_count": 30
        }
      ]
    },
    {
      "cell_type": "code",
      "metadata": {
        "id": "FzhzbfJYnWw1"
      },
      "source": [
        "from torch.utils.data import DataLoader, RandomSampler, SequentialSampler\n",
        "\n",
        "train_loader = DataLoader(train_dataset, sampler = RandomSampler(train_dataset), batch_size = Config.batch_size)\n",
        "val_loader = DataLoader(val_dataset, sampler = SequentialSampler(val_dataset), batch_size = Config.batch_size)\n",
        "test_loader = DataLoader(test_dataset, sampler = SequentialSampler(test_dataset), batch_size = Config.batch_size)"
      ],
      "execution_count": 32,
      "outputs": []
    },
    {
      "cell_type": "code",
      "metadata": {
        "colab": {
          "base_uri": "https://localhost:8080/"
        },
        "id": "xwPcUj_cnWzN",
        "outputId": "0ba9897a-2380-4bff-c945-5d121c4a13ed"
      },
      "source": [
        "next(iter(val_loader))"
      ],
      "execution_count": 33,
      "outputs": [
        {
          "output_type": "execute_result",
          "data": {
            "text/plain": [
              "[tensor([[  101., 29193., 30853.,  ...,     0.,     0.,     0.],\n",
              "         [  101., 10321., 15190.,  ...,     0.,     0.,     0.],\n",
              "         [  101., 39255., 30113.,  ...,     0.,     0.,     0.],\n",
              "         ...,\n",
              "         [  101., 13435., 10196.,  ...,     0.,     0.,     0.],\n",
              "         [  101., 11284., 37583.,  ...,     0.,     0.,     0.],\n",
              "         [  101., 99830., 10116.,  ...,     0.,     0.,     0.]]),\n",
              " tensor([[1., 1., 1.,  ..., 0., 0., 0.],\n",
              "         [1., 1., 1.,  ..., 0., 0., 0.],\n",
              "         [1., 1., 1.,  ..., 0., 0., 0.],\n",
              "         ...,\n",
              "         [1., 1., 1.,  ..., 0., 0., 0.],\n",
              "         [1., 1., 1.,  ..., 0., 0., 0.],\n",
              "         [1., 1., 1.,  ..., 0., 0., 0.]]),\n",
              " tensor([2, 1, 1, 1, 2, 2, 1, 1, 1, 1, 1, 1, 2, 0, 1, 2, 2, 1, 2, 1, 2, 0, 0, 1,\n",
              "         2, 2, 0, 0, 1, 0, 1, 1])]"
            ]
          },
          "metadata": {
            "tags": []
          },
          "execution_count": 33
        }
      ]
    },
    {
      "cell_type": "code",
      "metadata": {
        "id": "pjxYg3F1rmp3"
      },
      "source": [
        "import random\n",
        "\n",
        "seed_val = 42\n",
        "\n",
        "random.seed(seed_val)\n",
        "np.random.seed(seed_val)\n",
        "torch.manual_seed(seed_val)\n",
        "torch.cuda.manual_seed_all(seed_val)\n",
        "\n",
        "def train_model(model, train_loader, val_loader, optimizer, num_epochs, scheduler = None):\n",
        "    train_loss_history = []\n",
        "    train_f1_history = []\n",
        "    train_accuracy_history = []\n",
        "    val_accuracy_history = []\n",
        "    val_f1_history = []\n",
        "\n",
        "    for epoch in range(num_epochs):\n",
        "        model.train() # Enter train mode\n",
        "        \n",
        "        train_loss_accum = 0\n",
        "        correct_samples = 0\n",
        "        total_samples = 0\n",
        "\n",
        "        tp, tn, fp, fn = 0, 0, 0, 0\n",
        "\n",
        "        for index, (sentence, attention_mask, label) in enumerate(train_loader):\n",
        "            model.zero_grad()\n",
        "\n",
        "            sentence = sentence.to(device).long()\n",
        "            attention_mask = attention_mask.to(device).long()\n",
        "            label = label.to(device).long()\n",
        "\n",
        "            output = model(sentence, token_type_ids = None, attention_mask = attention_mask, labels = label)\n",
        "            loss_value, logits = output[0], output[1]\n",
        "            train_loss_accum += loss_value.item()\n",
        "\n",
        "            loss_value.backward()\n",
        "            optimizer.step()\n",
        "            if scheduler:\n",
        "                scheduler.step()\n",
        "\n",
        "            _, indices = torch.max(logits, 1)\n",
        "            correct_samples += torch.sum(indices == label)\n",
        "            tp += len(indices[(indices == label) & (indices == 1)])\n",
        "            tn += len(indices[(indices == label) & (indices == 0)])\n",
        "            fp += len(indices[(indices != label) & (indices == 1)])\n",
        "            fn += len(indices[(indices != label) & (indices == 0)])\n",
        "            total_samples += label.shape[0]\n",
        "            \n",
        "        avg_loss = train_loss_accum / index\n",
        "        train_accuracy = float(correct_samples) / total_samples\n",
        "        train_precision = tp / (tp + fp)\n",
        "        train_recall = tp / (tp + fn)\n",
        "        f1_train = (2*train_precision*train_recall) / (train_precision + train_recall)\n",
        "        \n",
        "        val_accuracy, f1_val = eval_model(model, val_loader)\n",
        "\n",
        "        train_loss_history.append(avg_loss)\n",
        "        train_accuracy_history.append(train_accuracy)\n",
        "        train_f1_history.append(f1_train)\n",
        "        val_accuracy_history.append(val_accuracy)\n",
        "        val_f1_history.append(f1_val)\n",
        "\n",
        "        print(f\"EPOCH: {epoch}, Train_loss: {avg_loss}, Train_Acc: {train_accuracy}, Train_F1: {f1_train}, Val_Acc: {val_accuracy}, Val_F1: {f1_val}\")\n",
        "        if avg_loss < 0.05:\n",
        "            return train_loss_history, train_accuracy_history, train_f1_history, val_accuracy_history, val_f1_history\n",
        "\n",
        "    return train_loss_history, train_accuracy_history, train_f1_history, val_accuracy_history, val_f1_history\n",
        "\n",
        "def eval_model(model, loader):\n",
        "\n",
        "    model.eval() # Evaluation mode\n",
        "    tp, tn, fp, fn = 0, 0, 0, 0\n",
        "    correct_samples = 0\n",
        "    total_samples = 0\n",
        "\n",
        "    for sentence, attention_mask, label in loader:\n",
        "        sentence = sentence.to(device).long()\n",
        "        attention_mask = attention_mask.to(device).long()\n",
        "        label = label.to(device).long()\n",
        "\n",
        "        with torch.no_grad():\n",
        "            preds = model(sentence, token_type_ids = None, attention_mask = attention_mask)\n",
        "        \n",
        "        _, indices = torch.max(preds[0], 1)\n",
        "        correct_samples += torch.sum(indices == label)\n",
        "        tp += len(indices[(indices == label) & (indices == 1)])\n",
        "        tn += len(indices[(indices == label) & (indices == 0)])\n",
        "        fp += len(indices[(indices != label) & (indices == 1)])\n",
        "        fn += len(indices[(indices != label) & (indices == 0)])\n",
        "        total_samples += label.shape[0]\n",
        "\n",
        "    val_accuracy = float(correct_samples) / total_samples\n",
        "    val_precision = tp / (tp + fp)\n",
        "    val_recall = tp / (tp + fn)\n",
        "    f1_val = (2*val_precision*val_recall) / (val_precision + val_recall)\n",
        "\n",
        "    return val_accuracy, f1_val"
      ],
      "execution_count": 37,
      "outputs": []
    },
    {
      "cell_type": "code",
      "metadata": {
        "colab": {
          "base_uri": "https://localhost:8080/"
        },
        "id": "Rs5hctdFxB4m",
        "outputId": "872373fb-6341-46c5-8947-6c48767b3890"
      },
      "source": [
        "from transformers import BertForSequenceClassification, AdamW, BertConfig\n",
        "\n",
        "model = BertForSequenceClassification.from_pretrained(\n",
        "    MODEL_TYPE,\n",
        "    num_labels = NUM_LABELS,\n",
        "    output_attentions = False,\n",
        "    output_hidden_states = False\n",
        ")\n",
        "\n",
        "model.to(device)"
      ],
      "execution_count": 50,
      "outputs": [
        {
          "output_type": "stream",
          "text": [
            "Some weights of the model checkpoint at FFZG-cleopatra/bert-emoji-latvian-twitter were not used when initializing BertForSequenceClassification: ['cls.predictions.decoder.bias', 'cls.predictions.decoder.weight', 'cls.predictions.transform.LayerNorm.weight', 'cls.predictions.transform.dense.bias', 'cls.predictions.bias', 'cls.predictions.transform.dense.weight', 'cls.predictions.transform.LayerNorm.bias']\n",
            "- This IS expected if you are initializing BertForSequenceClassification from the checkpoint of a model trained on another task or with another architecture (e.g. initializing a BertForSequenceClassification model from a BertForPreTraining model).\n",
            "- This IS NOT expected if you are initializing BertForSequenceClassification from the checkpoint of a model that you expect to be exactly identical (initializing a BertForSequenceClassification model from a BertForSequenceClassification model).\n",
            "Some weights of BertForSequenceClassification were not initialized from the model checkpoint at FFZG-cleopatra/bert-emoji-latvian-twitter and are newly initialized: ['classifier.weight', 'classifier.bias']\n",
            "You should probably TRAIN this model on a down-stream task to be able to use it for predictions and inference.\n"
          ],
          "name": "stderr"
        },
        {
          "output_type": "execute_result",
          "data": {
            "text/plain": [
              "BertForSequenceClassification(\n",
              "  (bert): BertModel(\n",
              "    (embeddings): BertEmbeddings(\n",
              "      (word_embeddings): Embedding(119547, 768)\n",
              "      (position_embeddings): Embedding(512, 768)\n",
              "      (token_type_embeddings): Embedding(2, 768)\n",
              "      (LayerNorm): LayerNorm((768,), eps=1e-12, elementwise_affine=True)\n",
              "      (dropout): Dropout(p=0.1, inplace=False)\n",
              "    )\n",
              "    (encoder): BertEncoder(\n",
              "      (layer): ModuleList(\n",
              "        (0): BertLayer(\n",
              "          (attention): BertAttention(\n",
              "            (self): BertSelfAttention(\n",
              "              (query): Linear(in_features=768, out_features=768, bias=True)\n",
              "              (key): Linear(in_features=768, out_features=768, bias=True)\n",
              "              (value): Linear(in_features=768, out_features=768, bias=True)\n",
              "              (dropout): Dropout(p=0.1, inplace=False)\n",
              "            )\n",
              "            (output): BertSelfOutput(\n",
              "              (dense): Linear(in_features=768, out_features=768, bias=True)\n",
              "              (LayerNorm): LayerNorm((768,), eps=1e-12, elementwise_affine=True)\n",
              "              (dropout): Dropout(p=0.1, inplace=False)\n",
              "            )\n",
              "          )\n",
              "          (intermediate): BertIntermediate(\n",
              "            (dense): Linear(in_features=768, out_features=3072, bias=True)\n",
              "          )\n",
              "          (output): BertOutput(\n",
              "            (dense): Linear(in_features=3072, out_features=768, bias=True)\n",
              "            (LayerNorm): LayerNorm((768,), eps=1e-12, elementwise_affine=True)\n",
              "            (dropout): Dropout(p=0.1, inplace=False)\n",
              "          )\n",
              "        )\n",
              "        (1): BertLayer(\n",
              "          (attention): BertAttention(\n",
              "            (self): BertSelfAttention(\n",
              "              (query): Linear(in_features=768, out_features=768, bias=True)\n",
              "              (key): Linear(in_features=768, out_features=768, bias=True)\n",
              "              (value): Linear(in_features=768, out_features=768, bias=True)\n",
              "              (dropout): Dropout(p=0.1, inplace=False)\n",
              "            )\n",
              "            (output): BertSelfOutput(\n",
              "              (dense): Linear(in_features=768, out_features=768, bias=True)\n",
              "              (LayerNorm): LayerNorm((768,), eps=1e-12, elementwise_affine=True)\n",
              "              (dropout): Dropout(p=0.1, inplace=False)\n",
              "            )\n",
              "          )\n",
              "          (intermediate): BertIntermediate(\n",
              "            (dense): Linear(in_features=768, out_features=3072, bias=True)\n",
              "          )\n",
              "          (output): BertOutput(\n",
              "            (dense): Linear(in_features=3072, out_features=768, bias=True)\n",
              "            (LayerNorm): LayerNorm((768,), eps=1e-12, elementwise_affine=True)\n",
              "            (dropout): Dropout(p=0.1, inplace=False)\n",
              "          )\n",
              "        )\n",
              "        (2): BertLayer(\n",
              "          (attention): BertAttention(\n",
              "            (self): BertSelfAttention(\n",
              "              (query): Linear(in_features=768, out_features=768, bias=True)\n",
              "              (key): Linear(in_features=768, out_features=768, bias=True)\n",
              "              (value): Linear(in_features=768, out_features=768, bias=True)\n",
              "              (dropout): Dropout(p=0.1, inplace=False)\n",
              "            )\n",
              "            (output): BertSelfOutput(\n",
              "              (dense): Linear(in_features=768, out_features=768, bias=True)\n",
              "              (LayerNorm): LayerNorm((768,), eps=1e-12, elementwise_affine=True)\n",
              "              (dropout): Dropout(p=0.1, inplace=False)\n",
              "            )\n",
              "          )\n",
              "          (intermediate): BertIntermediate(\n",
              "            (dense): Linear(in_features=768, out_features=3072, bias=True)\n",
              "          )\n",
              "          (output): BertOutput(\n",
              "            (dense): Linear(in_features=3072, out_features=768, bias=True)\n",
              "            (LayerNorm): LayerNorm((768,), eps=1e-12, elementwise_affine=True)\n",
              "            (dropout): Dropout(p=0.1, inplace=False)\n",
              "          )\n",
              "        )\n",
              "        (3): BertLayer(\n",
              "          (attention): BertAttention(\n",
              "            (self): BertSelfAttention(\n",
              "              (query): Linear(in_features=768, out_features=768, bias=True)\n",
              "              (key): Linear(in_features=768, out_features=768, bias=True)\n",
              "              (value): Linear(in_features=768, out_features=768, bias=True)\n",
              "              (dropout): Dropout(p=0.1, inplace=False)\n",
              "            )\n",
              "            (output): BertSelfOutput(\n",
              "              (dense): Linear(in_features=768, out_features=768, bias=True)\n",
              "              (LayerNorm): LayerNorm((768,), eps=1e-12, elementwise_affine=True)\n",
              "              (dropout): Dropout(p=0.1, inplace=False)\n",
              "            )\n",
              "          )\n",
              "          (intermediate): BertIntermediate(\n",
              "            (dense): Linear(in_features=768, out_features=3072, bias=True)\n",
              "          )\n",
              "          (output): BertOutput(\n",
              "            (dense): Linear(in_features=3072, out_features=768, bias=True)\n",
              "            (LayerNorm): LayerNorm((768,), eps=1e-12, elementwise_affine=True)\n",
              "            (dropout): Dropout(p=0.1, inplace=False)\n",
              "          )\n",
              "        )\n",
              "        (4): BertLayer(\n",
              "          (attention): BertAttention(\n",
              "            (self): BertSelfAttention(\n",
              "              (query): Linear(in_features=768, out_features=768, bias=True)\n",
              "              (key): Linear(in_features=768, out_features=768, bias=True)\n",
              "              (value): Linear(in_features=768, out_features=768, bias=True)\n",
              "              (dropout): Dropout(p=0.1, inplace=False)\n",
              "            )\n",
              "            (output): BertSelfOutput(\n",
              "              (dense): Linear(in_features=768, out_features=768, bias=True)\n",
              "              (LayerNorm): LayerNorm((768,), eps=1e-12, elementwise_affine=True)\n",
              "              (dropout): Dropout(p=0.1, inplace=False)\n",
              "            )\n",
              "          )\n",
              "          (intermediate): BertIntermediate(\n",
              "            (dense): Linear(in_features=768, out_features=3072, bias=True)\n",
              "          )\n",
              "          (output): BertOutput(\n",
              "            (dense): Linear(in_features=3072, out_features=768, bias=True)\n",
              "            (LayerNorm): LayerNorm((768,), eps=1e-12, elementwise_affine=True)\n",
              "            (dropout): Dropout(p=0.1, inplace=False)\n",
              "          )\n",
              "        )\n",
              "        (5): BertLayer(\n",
              "          (attention): BertAttention(\n",
              "            (self): BertSelfAttention(\n",
              "              (query): Linear(in_features=768, out_features=768, bias=True)\n",
              "              (key): Linear(in_features=768, out_features=768, bias=True)\n",
              "              (value): Linear(in_features=768, out_features=768, bias=True)\n",
              "              (dropout): Dropout(p=0.1, inplace=False)\n",
              "            )\n",
              "            (output): BertSelfOutput(\n",
              "              (dense): Linear(in_features=768, out_features=768, bias=True)\n",
              "              (LayerNorm): LayerNorm((768,), eps=1e-12, elementwise_affine=True)\n",
              "              (dropout): Dropout(p=0.1, inplace=False)\n",
              "            )\n",
              "          )\n",
              "          (intermediate): BertIntermediate(\n",
              "            (dense): Linear(in_features=768, out_features=3072, bias=True)\n",
              "          )\n",
              "          (output): BertOutput(\n",
              "            (dense): Linear(in_features=3072, out_features=768, bias=True)\n",
              "            (LayerNorm): LayerNorm((768,), eps=1e-12, elementwise_affine=True)\n",
              "            (dropout): Dropout(p=0.1, inplace=False)\n",
              "          )\n",
              "        )\n",
              "        (6): BertLayer(\n",
              "          (attention): BertAttention(\n",
              "            (self): BertSelfAttention(\n",
              "              (query): Linear(in_features=768, out_features=768, bias=True)\n",
              "              (key): Linear(in_features=768, out_features=768, bias=True)\n",
              "              (value): Linear(in_features=768, out_features=768, bias=True)\n",
              "              (dropout): Dropout(p=0.1, inplace=False)\n",
              "            )\n",
              "            (output): BertSelfOutput(\n",
              "              (dense): Linear(in_features=768, out_features=768, bias=True)\n",
              "              (LayerNorm): LayerNorm((768,), eps=1e-12, elementwise_affine=True)\n",
              "              (dropout): Dropout(p=0.1, inplace=False)\n",
              "            )\n",
              "          )\n",
              "          (intermediate): BertIntermediate(\n",
              "            (dense): Linear(in_features=768, out_features=3072, bias=True)\n",
              "          )\n",
              "          (output): BertOutput(\n",
              "            (dense): Linear(in_features=3072, out_features=768, bias=True)\n",
              "            (LayerNorm): LayerNorm((768,), eps=1e-12, elementwise_affine=True)\n",
              "            (dropout): Dropout(p=0.1, inplace=False)\n",
              "          )\n",
              "        )\n",
              "        (7): BertLayer(\n",
              "          (attention): BertAttention(\n",
              "            (self): BertSelfAttention(\n",
              "              (query): Linear(in_features=768, out_features=768, bias=True)\n",
              "              (key): Linear(in_features=768, out_features=768, bias=True)\n",
              "              (value): Linear(in_features=768, out_features=768, bias=True)\n",
              "              (dropout): Dropout(p=0.1, inplace=False)\n",
              "            )\n",
              "            (output): BertSelfOutput(\n",
              "              (dense): Linear(in_features=768, out_features=768, bias=True)\n",
              "              (LayerNorm): LayerNorm((768,), eps=1e-12, elementwise_affine=True)\n",
              "              (dropout): Dropout(p=0.1, inplace=False)\n",
              "            )\n",
              "          )\n",
              "          (intermediate): BertIntermediate(\n",
              "            (dense): Linear(in_features=768, out_features=3072, bias=True)\n",
              "          )\n",
              "          (output): BertOutput(\n",
              "            (dense): Linear(in_features=3072, out_features=768, bias=True)\n",
              "            (LayerNorm): LayerNorm((768,), eps=1e-12, elementwise_affine=True)\n",
              "            (dropout): Dropout(p=0.1, inplace=False)\n",
              "          )\n",
              "        )\n",
              "        (8): BertLayer(\n",
              "          (attention): BertAttention(\n",
              "            (self): BertSelfAttention(\n",
              "              (query): Linear(in_features=768, out_features=768, bias=True)\n",
              "              (key): Linear(in_features=768, out_features=768, bias=True)\n",
              "              (value): Linear(in_features=768, out_features=768, bias=True)\n",
              "              (dropout): Dropout(p=0.1, inplace=False)\n",
              "            )\n",
              "            (output): BertSelfOutput(\n",
              "              (dense): Linear(in_features=768, out_features=768, bias=True)\n",
              "              (LayerNorm): LayerNorm((768,), eps=1e-12, elementwise_affine=True)\n",
              "              (dropout): Dropout(p=0.1, inplace=False)\n",
              "            )\n",
              "          )\n",
              "          (intermediate): BertIntermediate(\n",
              "            (dense): Linear(in_features=768, out_features=3072, bias=True)\n",
              "          )\n",
              "          (output): BertOutput(\n",
              "            (dense): Linear(in_features=3072, out_features=768, bias=True)\n",
              "            (LayerNorm): LayerNorm((768,), eps=1e-12, elementwise_affine=True)\n",
              "            (dropout): Dropout(p=0.1, inplace=False)\n",
              "          )\n",
              "        )\n",
              "        (9): BertLayer(\n",
              "          (attention): BertAttention(\n",
              "            (self): BertSelfAttention(\n",
              "              (query): Linear(in_features=768, out_features=768, bias=True)\n",
              "              (key): Linear(in_features=768, out_features=768, bias=True)\n",
              "              (value): Linear(in_features=768, out_features=768, bias=True)\n",
              "              (dropout): Dropout(p=0.1, inplace=False)\n",
              "            )\n",
              "            (output): BertSelfOutput(\n",
              "              (dense): Linear(in_features=768, out_features=768, bias=True)\n",
              "              (LayerNorm): LayerNorm((768,), eps=1e-12, elementwise_affine=True)\n",
              "              (dropout): Dropout(p=0.1, inplace=False)\n",
              "            )\n",
              "          )\n",
              "          (intermediate): BertIntermediate(\n",
              "            (dense): Linear(in_features=768, out_features=3072, bias=True)\n",
              "          )\n",
              "          (output): BertOutput(\n",
              "            (dense): Linear(in_features=3072, out_features=768, bias=True)\n",
              "            (LayerNorm): LayerNorm((768,), eps=1e-12, elementwise_affine=True)\n",
              "            (dropout): Dropout(p=0.1, inplace=False)\n",
              "          )\n",
              "        )\n",
              "        (10): BertLayer(\n",
              "          (attention): BertAttention(\n",
              "            (self): BertSelfAttention(\n",
              "              (query): Linear(in_features=768, out_features=768, bias=True)\n",
              "              (key): Linear(in_features=768, out_features=768, bias=True)\n",
              "              (value): Linear(in_features=768, out_features=768, bias=True)\n",
              "              (dropout): Dropout(p=0.1, inplace=False)\n",
              "            )\n",
              "            (output): BertSelfOutput(\n",
              "              (dense): Linear(in_features=768, out_features=768, bias=True)\n",
              "              (LayerNorm): LayerNorm((768,), eps=1e-12, elementwise_affine=True)\n",
              "              (dropout): Dropout(p=0.1, inplace=False)\n",
              "            )\n",
              "          )\n",
              "          (intermediate): BertIntermediate(\n",
              "            (dense): Linear(in_features=768, out_features=3072, bias=True)\n",
              "          )\n",
              "          (output): BertOutput(\n",
              "            (dense): Linear(in_features=3072, out_features=768, bias=True)\n",
              "            (LayerNorm): LayerNorm((768,), eps=1e-12, elementwise_affine=True)\n",
              "            (dropout): Dropout(p=0.1, inplace=False)\n",
              "          )\n",
              "        )\n",
              "        (11): BertLayer(\n",
              "          (attention): BertAttention(\n",
              "            (self): BertSelfAttention(\n",
              "              (query): Linear(in_features=768, out_features=768, bias=True)\n",
              "              (key): Linear(in_features=768, out_features=768, bias=True)\n",
              "              (value): Linear(in_features=768, out_features=768, bias=True)\n",
              "              (dropout): Dropout(p=0.1, inplace=False)\n",
              "            )\n",
              "            (output): BertSelfOutput(\n",
              "              (dense): Linear(in_features=768, out_features=768, bias=True)\n",
              "              (LayerNorm): LayerNorm((768,), eps=1e-12, elementwise_affine=True)\n",
              "              (dropout): Dropout(p=0.1, inplace=False)\n",
              "            )\n",
              "          )\n",
              "          (intermediate): BertIntermediate(\n",
              "            (dense): Linear(in_features=768, out_features=3072, bias=True)\n",
              "          )\n",
              "          (output): BertOutput(\n",
              "            (dense): Linear(in_features=3072, out_features=768, bias=True)\n",
              "            (LayerNorm): LayerNorm((768,), eps=1e-12, elementwise_affine=True)\n",
              "            (dropout): Dropout(p=0.1, inplace=False)\n",
              "          )\n",
              "        )\n",
              "      )\n",
              "    )\n",
              "    (pooler): BertPooler(\n",
              "      (dense): Linear(in_features=768, out_features=768, bias=True)\n",
              "      (activation): Tanh()\n",
              "    )\n",
              "  )\n",
              "  (dropout): Dropout(p=0.1, inplace=False)\n",
              "  (classifier): Linear(in_features=768, out_features=3, bias=True)\n",
              ")"
            ]
          },
          "metadata": {
            "tags": []
          },
          "execution_count": 50
        }
      ]
    },
    {
      "cell_type": "code",
      "metadata": {
        "colab": {
          "base_uri": "https://localhost:8080/"
        },
        "id": "4CAjbPuOr4t9",
        "outputId": "f3f47bae-6ef5-4a1b-8051-84341560dbab"
      },
      "source": [
        "## TRAINING\n",
        "\n",
        "from transformers import get_linear_schedule_with_warmup\n",
        "\n",
        "EPOCHS = 5\n",
        "\n",
        "optimizer = AdamW(model.parameters(), lr = 1e-5, eps = 1e-8)\n",
        "scheduler = get_linear_schedule_with_warmup(optimizer, num_warmup_steps = 0, num_training_steps = EPOCHS*len(train_dataset))\n",
        "\n",
        "train_loss, train_accuracy, train_f1, val_accuracy, val_f1 = \\\n",
        "                    train_model(model, train_loader, val_loader, optimizer, EPOCHS, scheduler)"
      ],
      "execution_count": 51,
      "outputs": [
        {
          "output_type": "stream",
          "text": [
            "EPOCH: 0, Train_loss: 1.0487833245234055, Train_Acc: 0.466403162055336, Train_F1: 0.6419969345303262, Val_Acc: 0.5141727092946605, Val_F1: 0.6682107701215982\n",
            "EPOCH: 1, Train_loss: 0.9472221314907074, Train_Acc: 0.5612648221343873, Train_F1: 0.7075316107751513, Val_Acc: 0.5781147000659196, Val_F1: 0.6285714285714286\n",
            "EPOCH: 2, Train_loss: 0.8119157363067974, Train_Acc: 0.6408808582721626, Train_F1: 0.7409602845287493, Val_Acc: 0.6275543836519446, Val_F1: 0.6981470412432755\n",
            "EPOCH: 3, Train_loss: 0.6952082406390797, Train_Acc: 0.7094861660079052, Train_F1: 0.7791519434628975, Val_Acc: 0.6321687541199736, Val_F1: 0.726010101010101\n",
            "EPOCH: 4, Train_loss: 0.599349535595287, Train_Acc: 0.7648221343873518, Train_F1: 0.8198090692124104, Val_Acc: 0.6308503625576797, Val_F1: 0.7075283144570287\n"
          ],
          "name": "stdout"
        }
      ]
    },
    {
      "cell_type": "code",
      "metadata": {
        "colab": {
          "base_uri": "https://localhost:8080/",
          "height": 279
        },
        "id": "3N35B-8fwSUM",
        "outputId": "25856cc4-bed6-4abd-9a12-daa84a7b1cc0"
      },
      "source": [
        "ax = sns.lineplot(x = [i for i in range(EPOCHS)], y = train_loss, label = 'Loss');\n",
        "ax.set(xlabel = 'Epoch', ylabel = 'Loss');"
      ],
      "execution_count": 53,
      "outputs": [
        {
          "output_type": "display_data",
          "data": {
            "image/png": "[encoded data removed]",
            "text/plain": [
              "<Figure size 432x288 with 1 Axes>"
            ]
          },
          "metadata": {
            "tags": [],
            "needs_background": "light"
          }
        }
      ]
    },
    {
      "cell_type": "code",
      "metadata": {
        "colab": {
          "base_uri": "https://localhost:8080/",
          "height": 279
        },
        "id": "1nyU39vPvZUc",
        "outputId": "27298e87-f489-44d2-bf48-501f530f4a77"
      },
      "source": [
        "ax = sns.lineplot(x = [i for i in range(EPOCHS)], y = train_accuracy, label = 'Train accuracy');\n",
        "ax = sns.lineplot(x = [i for i in range(EPOCHS)], y = val_accuracy, label = 'Val accuracy');\n",
        "ax.set(xlabel = 'Epoch', ylabel = 'Accuracy');"
      ],
      "execution_count": 54,
      "outputs": [
        {
          "output_type": "display_data",
          "data": {
            "image/png": "[encoded data removed]",
            "text/plain": [
              "<Figure size 432x288 with 1 Axes>"
            ]
          },
          "metadata": {
            "tags": [],
            "needs_background": "light"
          }
        }
      ]
    },
    {
      "cell_type": "code",
      "metadata": {
        "colab": {
          "base_uri": "https://localhost:8080/",
          "height": 279
        },
        "id": "sInx0jlgveqx",
        "outputId": "bd7bf150-8299-47ed-a338-04364705e8ce"
      },
      "source": [
        "ax = sns.lineplot(x = [i for i in range(EPOCHS)], y = train_f1, label = 'Train F1');\n",
        "ax = sns.lineplot(x = [i for i in range(EPOCHS)], y = val_f1, label = 'Val F1');\n",
        "ax.set(xlabel = 'Epoch', ylabel = 'F1');"
      ],
      "execution_count": 55,
      "outputs": [
        {
          "output_type": "display_data",
          "data": {
            "image/png": "[encoded data removed]",
            "text/plain": [
              "<Figure size 432x288 with 1 Axes>"
            ]
          },
          "metadata": {
            "tags": [],
            "needs_background": "light"
          }
        }
      ]
    },
    {
      "cell_type": "markdown",
      "metadata": {
        "id": "Dk7mewR5wZl0"
      },
      "source": [
        "# Evaluation on test dataset"
      ]
    },
    {
      "cell_type": "code",
      "metadata": {
        "colab": {
          "base_uri": "https://localhost:8080/"
        },
        "id": "qGzoQx_LsjPD",
        "outputId": "4dc280e3-544e-4a5e-fb9b-cb693cb24bed"
      },
      "source": [
        "test_accuracy, test_f1 = eval_model(model, test_loader)\n",
        "print(f'Test Accuracy: {test_accuracy}')\n",
        "print(f'Test F1: {test_f1}')"
      ],
      "execution_count": 56,
      "outputs": [
        {
          "output_type": "stream",
          "text": [
            "Test Accuracy: 0.6317204301075269\n",
            "Test F1: 0.6328257191201353\n"
          ],
          "name": "stdout"
        }
      ]
    },
    {
      "cell_type": "code",
      "metadata": {
        "id": "fybV3iupw4xa"
      },
      "source": [
        ""
      ],
      "execution_count": null,
      "outputs": []
    }
  ]
}
